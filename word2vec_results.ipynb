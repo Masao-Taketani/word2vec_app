{
 "cells": [
  {
   "cell_type": "code",
   "execution_count": 4,
   "metadata": {},
   "outputs": [],
   "source": [
    "import warnings\n",
    "\n",
    "warnings.filterwarnings('ignore')"
   ]
  },
  {
   "cell_type": "code",
   "execution_count": 5,
   "metadata": {
    "scrolled": false
   },
   "outputs": [
    {
     "data": {
      "text/plain": [
       "[('湯', 0.8699175715446472),\n",
       " ('温泉郷', 0.8515218496322632),\n",
       " ('日帰り', 0.8163285255432129),\n",
       " ('旅館', 0.8004999160766602),\n",
       " ('鉱泉', 0.7846518158912659),\n",
       " ('足湯', 0.7813030481338501),\n",
       " ('露天風呂', 0.7808145880699158),\n",
       " ('ユンニ', 0.7789455056190491),\n",
       " ('乃湯', 0.7785201668739319),\n",
       " ('砂湯', 0.7737735509872437)]"
      ]
     },
     "execution_count": 5,
     "metadata": {},
     "output_type": "execute_result"
    }
   ],
   "source": [
    "from gensim.models import word2vec\n",
    "model = word2vec.Word2Vec.load('wiki.model')\n",
    "model.wv.most_similar(positive = ['温泉'])"
   ]
  },
  {
   "cell_type": "code",
   "execution_count": 6,
   "metadata": {},
   "outputs": [
    {
     "data": {
      "text/plain": [
       "(100,)"
      ]
     },
     "execution_count": 6,
     "metadata": {},
     "output_type": "execute_result"
    }
   ],
   "source": [
    "vec = model.wv['温泉']\n",
    "vec.shape"
   ]
  },
  {
   "cell_type": "code",
   "execution_count": 7,
   "metadata": {},
   "outputs": [
    {
     "data": {
      "text/plain": [
       "[('眠れる', 0.6863244771957397),\n",
       " ('奥様', 0.6687427759170532),\n",
       " ('モルギアナ', 0.6686352491378784),\n",
       " ('オナカ', 0.6657763719558716),\n",
       " ('ねだり', 0.662948727607727),\n",
       " ('魔女', 0.6595589518547058),\n",
       " ('お姫さま', 0.6515923738479614),\n",
       " ('シンデレラ', 0.6505869626998901),\n",
       " ('禁断', 0.6496909856796265),\n",
       " ('お姫様', 0.6488977670669556)]"
      ]
     },
     "execution_count": 7,
     "metadata": {},
     "output_type": "execute_result"
    }
   ],
   "source": [
    "model.wv.most_similar(positive = ['王様', '女'], negative = ['男'])"
   ]
  },
  {
   "cell_type": "code",
   "execution_count": 8,
   "metadata": {},
   "outputs": [
    {
     "data": {
      "text/plain": [
       "[('芸能人', 0.7556106448173523),\n",
       " ('著名', 0.7123744487762451),\n",
       " ('好角家', 0.7008482217788696),\n",
       " ('ハロプロファン', 0.6939321756362915),\n",
       " ('話題', 0.6865317225456238),\n",
       " ('ブロガー', 0.6694329977035522),\n",
       " ('迷言', 0.6686463952064514),\n",
       " ('パネラー', 0.6663787364959717),\n",
       " ('スワローズファン', 0.666089653968811),\n",
       " ('ネタ', 0.6656442880630493)]"
      ]
     },
     "execution_count": 8,
     "metadata": {},
     "output_type": "execute_result"
    }
   ],
   "source": [
    "model.wv.most_similar(positive = ['有名人'])"
   ]
  },
  {
   "cell_type": "code",
   "execution_count": 9,
   "metadata": {},
   "outputs": [
    {
     "data": {
      "text/plain": [
       "[('スケベ', 0.8554076552391052),\n",
       " ('ウブ', 0.8407267332077026),\n",
       " ('ラブイチャ', 0.8404986262321472),\n",
       " ('いやらしい', 0.84044349193573),\n",
       " ('巨乳', 0.828780472278595),\n",
       " ('イチャイチャ', 0.8230693936347961),\n",
       " ('淫乱', 0.8163396120071411),\n",
       " ('エロ', 0.815066397190094),\n",
       " ('オナペット', 0.8105868697166443),\n",
       " ('オッパイ', 0.8105712532997131)]"
      ]
     },
     "execution_count": 9,
     "metadata": {},
     "output_type": "execute_result"
    }
   ],
   "source": [
    "model.most_similar(positive = ['エッチ'])"
   ]
  },
  {
   "cell_type": "code",
   "execution_count": null,
   "metadata": {},
   "outputs": [],
   "source": []
  }
 ],
 "metadata": {
  "kernelspec": {
   "display_name": "Python 3",
   "language": "python",
   "name": "python3"
  },
  "language_info": {
   "codemirror_mode": {
    "name": "ipython",
    "version": 3
   },
   "file_extension": ".py",
   "mimetype": "text/x-python",
   "name": "python",
   "nbconvert_exporter": "python",
   "pygments_lexer": "ipython3",
   "version": "3.5.5"
  }
 },
 "nbformat": 4,
 "nbformat_minor": 2
}
